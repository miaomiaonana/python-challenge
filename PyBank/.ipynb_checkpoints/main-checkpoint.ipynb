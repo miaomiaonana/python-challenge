{
 "cells": [
  {
   "cell_type": "code",
   "execution_count": 4,
   "id": "409f9f91-7055-42bf-b685-ba59699bd2f0",
   "metadata": {
    "tags": []
   },
   "outputs": [],
   "source": [
    "# The task is to create a Python script that analyses the records to calculate each of the following:\n",
    "# The total number of months included in the dataset\n",
    "# The net total amount of Profit/Losses over the entire period\n",
    "# The average of the changes in Profit/Losses over the entire period\n",
    "# The greatest increase in profits (date and amount) over the entire period\n",
    "# The greatest decrease in losses (date and amount) over the entire period\n",
    "\"\"\"\n",
    "The result will be like the following:\n",
    "Financial Analysis\n",
    "----------------------------\n",
    "Total Months: 86\n",
    "Total: $38382578\n",
    "Average  Change: $-2315.12\n",
    "Greatest Increase in Profits: Feb-2012 ($1926159)\n",
    "Greatest Decrease in Profits: Sep-2013 ($-2196167)\n",
    "\"\"\""
   ]
  },
  {
   "cell_type": "code",
   "execution_count": 15,
   "id": "a5c9aa6a-f33a-4ae2-a3f0-d578e5535cd1",
   "metadata": {
    "tags": []
   },
   "outputs": [
    {
     "name": "stdout",
     "output_type": "stream",
     "text": [
      "Financial Analysis\n",
      "----------------------------\n",
      "Total Months: 86\n",
      "Total: $ 38382578\n",
      "Average  Change: $ 446309.0465116279\n",
      "Greatest Increase in Profits: Feb-2012 ($ 1170593)\n",
      "Greatest Decrease in Profits: Sep-2013 ($ -1196225)\n"
     ]
    }
   ],
   "source": [
    "# Import the pathlib and csv library\n",
    "from pathlib import Path\n",
    "import csv\n",
    "\n",
    "# Set the file path\n",
    "csvpath = Path(\"Resources/budget_data.csv\")\n",
    "\n",
    "# Initialize the metrics\n",
    "count = 0\n",
    "total = 0\n",
    "average = 0\n",
    "greatest_profit = 0\n",
    "greatest_loss = 0\n",
    "profit_month = 0\n",
    "loss_month = 0\n",
    "\n",
    "#Open the csv file as an object\n",
    "with open(csvpath, 'r') as csvfile:\n",
    "    csvreader = csv.reader(csvfile,delimiter=\",\")\n",
    "    # Read the header row\n",
    "    header = next(csvreader)\n",
    "    # Read each row of data\n",
    "    for row in csvreader:\n",
    "        count += 1\n",
    "        total += int(row[1])\n",
    "        # # Logic to determine min and max\n",
    "        if int(row[1]) > greatest_profit:\n",
    "            greatest_profit = int(row[1])\n",
    "            profit_month = row[0]\n",
    "        elif int(row[1]) < greatest_loss:\n",
    "            greatest_loss = int(row[1])\n",
    "            loss_month = row[0]\n",
    "\n",
    "# Calculare average\n",
    "average = total/count\n",
    "\n",
    "print(\"Financial Analysis\\n----------------------------\")\n",
    "print(f\"Total Months: {count}\")\n",
    "print(f\"Total: $ {total}\")\n",
    "print(f\"Average  Change: $ {average}\")\n",
    "print(f\"Greatest Increase in Profits: {profit_month} ($ {greatest_profit})\" )\n",
    "print(f\"Greatest Decrease in Profits: {loss_month} ($ {greatest_loss})\" )   "
   ]
  },
  {
   "cell_type": "code",
   "execution_count": null,
   "id": "b1758d24-d28e-40cb-b07c-3de74e952dd1",
   "metadata": {},
   "outputs": [],
   "source": []
  }
 ],
 "metadata": {
  "kernelspec": {
   "display_name": "Python 3 (ipykernel)",
   "language": "python",
   "name": "python3"
  },
  "language_info": {
   "codemirror_mode": {
    "name": "ipython",
    "version": 3
   },
   "file_extension": ".py",
   "mimetype": "text/x-python",
   "name": "python",
   "nbconvert_exporter": "python",
   "pygments_lexer": "ipython3",
   "version": "3.10.11"
  }
 },
 "nbformat": 4,
 "nbformat_minor": 5
}
