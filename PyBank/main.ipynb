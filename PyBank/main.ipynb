{
 "cells": [
  {
   "cell_type": "code",
   "execution_count": 4,
   "id": "409f9f91-7055-42bf-b685-ba59699bd2f0",
   "metadata": {
    "tags": []
   },
   "outputs": [],
   "source": [
    "# The task is to create a Python script that analyses the records to calculate each of the following:\n",
    "# The total number of months included in the dataset\n",
    "# The net total amount of Profit/Losses over the entire period\n",
    "# The average of the changes in Profit/Losses over the entire period\n",
    "# The greatest increase in profits (date and amount) over the entire period\n",
    "# The greatest decrease in losses (date and amount) over the entire period\n",
    "\"\"\"\n",
    "The result will be like the following:\n",
    "Financial Analysis\n",
    "----------------------------\n",
    "Total Months: 86\n",
    "Total: $38382578\n",
    "Average  Change: $-2315.12\n",
    "Greatest Increase in Profits: Feb-2012 ($1926159)\n",
    "Greatest Decrease in Profits: Sep-2013 ($-2196167)\n",
    "\"\"\""
   ]
  },
  {
   "cell_type": "code",
   "execution_count": 10,
   "id": "a5c9aa6a-f33a-4ae2-a3f0-d578e5535cd1",
   "metadata": {
    "tags": []
   },
   "outputs": [
    {
     "name": "stdout",
     "output_type": "stream",
     "text": [
      "Financial Analysis\n",
      "----------------------------\n",
      "Total Months: 86\n",
      "Total: $ 38382578\n",
      "Average  Change: $ -2315.12\n",
      "Greatest Increase in Profits: Feb-2012 ($ 1926159)\n",
      "Greatest Decrease in Profits: Sep-2013 ($ -2196167)\n"
     ]
    }
   ],
   "source": [
    "# Import the pathlib and csv library\n",
    "from pathlib import Path\n",
    "import csv\n",
    "\n",
    "# Set the file path\n",
    "csvpath = Path(\"Resources/budget_data.csv\")\n",
    "\n",
    "# Initialize the metrics\n",
    "count = 0\n",
    "total = 0\n",
    "t = 0\n",
    "average = 0\n",
    "greatest_profit = 0\n",
    "greatest_loss = 0\n",
    "profit_month = 0\n",
    "loss_month = 0\n",
    "data = []\n",
    "keylist = []\n",
    "\n",
    "#Open the csv file as an object\n",
    "with open(csvpath, 'r') as csvfile:\n",
    "    csvreader = csv.reader(csvfile,delimiter=\",\")\n",
    "    # skip the header row\n",
    "    header = next(csvreader)\n",
    "    # Read each row of data\n",
    "    for key,result in csvreader:\n",
    "        count += 1\n",
    "        total += int(result)\n",
    "        data.append(int(result))\n",
    "        keylist.append(key)\n",
    "    \n",
    "    for i in range(1,count):\n",
    "        change = data[i]-data[i-1]\n",
    "        t += change\n",
    "        # # Logic to determine min and max\n",
    "        if change > greatest_profit:\n",
    "            greatest_profit = change\n",
    "            profit_month = keylist[i]\n",
    "        elif change < greatest_loss:\n",
    "            greatest_loss = change\n",
    "            loss_month = keylist[i]\n",
    "            \n",
    "\n",
    "# Calculare average\n",
    "average = round(t/(count-1),2)\n",
    "\n",
    "\n",
    "print(\"Financial Analysis\\n----------------------------\")\n",
    "print(f\"Total Months: {count}\")\n",
    "print(f\"Total: $ {total}\")\n",
    "print(f\"Average  Change: $ {average}\")\n",
    "print(f\"Greatest Increase in Profits: {profit_month} ($ {greatest_profit})\" )\n",
    "print(f\"Greatest Decrease in Profits: {loss_month} ($ {greatest_loss})\" )   \n"
   ]
  },
  {
   "cell_type": "code",
   "execution_count": 11,
   "id": "b1758d24-d28e-40cb-b07c-3de74e952dd1",
   "metadata": {},
   "outputs": [],
   "source": [
    "# Set the path for the output\n",
    "output_path = Path(\"output.txt\")\n",
    "with open(output_path,'w') as file:\n",
    "    file.write(\"Financial Analysis\\n----------------------------\\n\")\n",
    "    file.write(f\"Total Months: {count}\\n\")\n",
    "    file.write(f\"Total: $ {total}\\n\")\n",
    "    file.write(f\"Average  Change: $ {average}\\n\")\n",
    "    file.write(f\"Greatest Increase in Profits: {profit_month} ($ {greatest_profit})\\n\" ) \n",
    "    file.write(f\"Greatest Decrease in Profits: {loss_month} ($ {greatest_loss})\" ) "
   ]
  },
  {
   "cell_type": "code",
   "execution_count": null,
   "id": "33797588-274f-43ac-a596-db6c94f36023",
   "metadata": {},
   "outputs": [],
   "source": []
  },
  {
   "cell_type": "code",
   "execution_count": null,
   "id": "9c3b5f70-94bb-48ca-bcc9-9af555b4b873",
   "metadata": {},
   "outputs": [],
   "source": []
  }
 ],
 "metadata": {
  "kernelspec": {
   "display_name": "Python 3 (ipykernel)",
   "language": "python",
   "name": "python3"
  },
  "language_info": {
   "codemirror_mode": {
    "name": "ipython",
    "version": 3
   },
   "file_extension": ".py",
   "mimetype": "text/x-python",
   "name": "python",
   "nbconvert_exporter": "python",
   "pygments_lexer": "ipython3",
   "version": "3.10.11"
  }
 },
 "nbformat": 4,
 "nbformat_minor": 5
}
